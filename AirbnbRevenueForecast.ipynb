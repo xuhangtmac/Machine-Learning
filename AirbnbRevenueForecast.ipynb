{
 "cells": [
  {
   "cell_type": "markdown",
   "metadata": {},
   "source": [
    "# Machine Learning and Data Analysis for Business and Finance \n",
    "# Final Project: Boston Airbnb Revenue Prediction\n",
    "**Yuzhou Liu, Hang Xu, Leiyuxiang Wu, Jiaren Ma**"
   ]
  },
  {
   "cell_type": "markdown",
   "metadata": {},
   "source": [
    "## Introduction\n",
    "\n",
    "The goal of this project is to identify factors contributing to popular Airbnb listings in Boston and provide hosts with guidance on how to lift revenue by manipulating key contributing factors. We combine external data like text reviews, distance to Boston attractions and crime rate by neighborhood with Boston Airbnb listing data, applying typical models such as KNN, Ridge/Lasso,Kernel Ridge, Boosting Tree and Random Forest to find which of those variables best interpret the popularity of the given properties. Then we can use relationships between factors and properties popularity to help hosts boost their revenue. "
   ]
  },
  {
   "cell_type": "markdown",
   "metadata": {},
   "source": [
    "## Package Used"
   ]
  },
  {
   "cell_type": "code",
   "execution_count": 1,
   "metadata": {},
   "outputs": [],
   "source": [
    "import pandas as pd\n",
    "import numpy as np\n",
    "from sklearn.model_selection import train_test_split\n",
    "from sklearn.kernel_ridge import KernelRidge\n",
    "from sklearn.preprocessing import StandardScaler\n",
    "from sklearn.ensemble import RandomForestRegressor\n",
    "from sklearn.model_selection import GridSearchCV\n",
    "from sklearn.model_selection import ShuffleSplit\n",
    "from sklearn.ensemble import GradientBoostingRegressor\n",
    "from sklearn.model_selection import cross_val_score\n",
    "from sklearn.kernel_ridge import KernelRidge\n",
    "from sklearn.neighbors import KNeighborsRegressor\n",
    "from sklearn.linear_model import Ridge\n",
    "from sklearn.linear_model import Lasso\n",
    "import matplotlib.pyplot as plt\n",
    "%matplotlib inline"
   ]
  },
  {
   "cell_type": "code",
   "execution_count": 2,
   "metadata": {},
   "outputs": [],
   "source": [
    "def plot_feature_importances(model):\n",
    "    n_features = Features.shape[1]\n",
    "    plt.barh(range(n_features), model.feature_importances_, align='center')\n",
    "    plt.yticks(np.arange(n_features), Features_df.columns)\n",
    "    plt.xlabel(\"Feature importance\")\n",
    "    plt.ylabel(\"Feature\")\n",
    "    plt.ylim(-1, n_features)"
   ]
  },
  {
   "cell_type": "markdown",
   "metadata": {},
   "source": [
    "## Datasets & Preprocesing"
   ]
  },
  {
   "cell_type": "markdown",
   "metadata": {},
   "source": [
    "The main dataset investigated here is Boston airbnb listing data from **Inside Airbnb** webiste plus text reviews data, distance to Boston Attraction and crime rate by neighborhood. The airbnb lisitng data include features of about 6000 current airbnb listings around great boston area on 09/14/2018. The raw dataset contains daily price, cleaning fee, security deposite and other 27 variables. \n",
    "\n",
    "The target variable of our interests is availability_90, which is the historical average 90-day availability (number of days). As mentioned before, one of our aims is to perdict monthly revenues for airbnb owners, and the availability_90 data contains the average monthly occupation, which can convert to monthly revenue multiplying by daily price.\n",
    "\n",
    "For **availability_90**, we converted it to average occupancy in 90 (OCC) days for revenue prediction by simply deducting from 90. Thus, as mentioned before, it can be easily converted to monthly revenue multiplying by daily price/3.\n",
    "\n",
    "Moreover, we did some modification and transformation such as log transformation and drop N/A records to clean the dataset. We also converted categorical variables to dummy variables and scale all variables so as to satisfy some model assumptions.\n"
   ]
  },
  {
   "cell_type": "code",
   "execution_count": 3,
   "metadata": {},
   "outputs": [],
   "source": [
    "airbnb = pd.read_csv('../Data/Airbnb.csv', index_col = 0)\n",
    "ResponseTimeDummy= pd.get_dummies(airbnb['host_response_time'],drop_first=True)\n",
    "RoomTypeDummy = pd.get_dummies(airbnb['room_type'],drop_first=True)\n",
    "PropTypeDummy = pd.get_dummies(airbnb['property_type'],drop_first=True)\n",
    "frame = [airbnb,ResponseTimeDummy,RoomTypeDummy,PropTypeDummy]\n",
    "airbnb = pd.concat(frame, join=\"inner\", axis=1)\n",
    "Target = airbnb.OCC\n",
    "Features_df = airbnb.drop(['OCC', 'host_response_time','room_type', 'property_type'], axis=1)"
   ]
  },
  {
   "cell_type": "markdown",
   "metadata": {},
   "source": [
    "#### Scaling down"
   ]
  },
  {
   "cell_type": "code",
   "execution_count": 4,
   "metadata": {
    "scrolled": true
   },
   "outputs": [
    {
     "name": "stderr",
     "output_type": "stream",
     "text": [
      "/anaconda3/lib/python3.7/site-packages/sklearn/preprocessing/data.py:625: DataConversionWarning: Data with input dtype uint8, int64, float64 were all converted to float64 by StandardScaler.\n",
      "  return self.partial_fit(X, y)\n",
      "/anaconda3/lib/python3.7/site-packages/ipykernel_launcher.py:3: DataConversionWarning: Data with input dtype uint8, int64, float64 were all converted to float64 by StandardScaler.\n",
      "  This is separate from the ipykernel package so we can avoid doing imports until\n"
     ]
    }
   ],
   "source": [
    "scaler = StandardScaler()\n",
    "scaler.fit(Features_df)\n",
    "Features = scaler.transform(Features_df)"
   ]
  },
  {
   "cell_type": "markdown",
   "metadata": {},
   "source": [
    "## KNN as Benchmark\n",
    "#### Determine Proper K value"
   ]
  },
  {
   "cell_type": "markdown",
   "metadata": {},
   "source": [
    "Since K-Nearest Neighbor has a special advantage of “no assumptions required” as well as “easy to understand”, we decide to adopt this method in our research as Benchmark model. \n",
    "\n",
    "The overall process for all our models are similar. First, we use a for loop to find the optimal parameter value in KNN cases is the number of “n”. Judging from the plot output, we find that the number of around 8 will be a good fit since the accuracy of training set and test set are close while overfitting is got rid of.\n",
    "\n",
    "Then, we run the cross validation (different train/test data splits) 15 times to better wipe out the randomness of the regression result and get the score for modle performance."
   ]
  },
  {
   "cell_type": "code",
   "execution_count": 12,
   "metadata": {},
   "outputs": [
    {
     "data": {
      "text/plain": [
       "<matplotlib.legend.Legend at 0x263b64d3048>"
      ]
     },
     "execution_count": 12,
     "metadata": {},
     "output_type": "execute_result"
    },
    {
     "data": {
      "image/png": "[encoded data removed]",
      "text/plain": [
       "<Figure size 432x288 with 1 Axes>"
      ]
     },
     "metadata": {
      "needs_background": "light"
     },
     "output_type": "display_data"
    }
   ],
   "source": [
    "training_accuracy = []\n",
    "test_accuracy = []\n",
    "# try n_neighbors from 1 to 10\n",
    "neighbors_settings = range(1, 11)\n",
    "X_train, X_test, y_train, y_test = train_test_split(Features, Target, test_size = 0.2)\n",
    "\n",
    "for n_neighbors in neighbors_settings:\n",
    "    # build the model\n",
    "    clf = KNeighborsRegressor(n_neighbors=n_neighbors)\n",
    "    clf.fit(X_train, y_train)\n",
    "    # record training set accuracy\n",
    "    training_accuracy.append(clf.score(X_train, y_train))\n",
    "    # record generalization accuracy\n",
    "    test_accuracy.append(clf.score(X_test, y_test))\n",
    "    \n",
    "plt.plot(neighbors_settings, training_accuracy, label=\"training accuracy\")\n",
    "plt.plot(neighbors_settings, test_accuracy, label=\"test accuracy\")\n",
    "plt.ylabel(\"Accuracy\")\n",
    "plt.xlabel(\"n_neighbors\")\n",
    "plt.legend()"
   ]
  },
  {
   "cell_type": "markdown",
   "metadata": {},
   "source": [
    "#### Cross Validation\n",
    "We see that the mean training score accuracy approximates 0.374 and the mean test score accuracy approaches 0.180."
   ]
  },
  {
   "cell_type": "code",
   "execution_count": 11,
   "metadata": {},
   "outputs": [
    {
     "name": "stdout",
     "output_type": "stream",
     "text": [
      "K-Nearest Neighbour Train Score is 0.3745826054526281\n",
      "K-Nearest Neighbour Test Score is 0.18002205425136086\n"
     ]
    }
   ],
   "source": [
    "n = 15\n",
    "reg = KNeighborsRegressor(n_neighbors=8)\n",
    "KNNTrainScore = np.zeros(n)\n",
    "KNNTestScore = np.zeros(n)\n",
    "for i in range(n):\n",
    "    X_train, X_test, y_train, y_test = train_test_split(Features, Target, test_size = 0.2)\n",
    "    reg.fit(X_train,y_train)\n",
    "    KNNTrainScore = reg.score(X_train,y_train)\n",
    "    KNNTestScore = reg.score(X_test,y_test)\n",
    "print('K-Nearest Neighbour Train Score is {}'.format(KNNTrainScore.mean()))\n",
    "print('K-Nearest Neighbour Test Score is {}'.format(KNNTestScore.mean()))"
   ]
  },
  {
   "cell_type": "markdown",
   "metadata": {},
   "source": [
    "## Ridge Regression\n",
    "#### Grid Search"
   ]
  },
  {
   "cell_type": "code",
   "execution_count": 23,
   "metadata": {},
   "outputs": [
    {
     "name": "stdout",
     "output_type": "stream",
     "text": [
      "    rank_test_score  mean_test_score  mean_train_score param_alpha\n",
      "0                 8         0.192743          0.208192       0.001\n",
      "1                 7         0.192743          0.208192        0.01\n",
      "2                 6         0.192748          0.208192         0.1\n",
      "3                 5         0.192797          0.208192           1\n",
      "4                 4         0.193131          0.208171          10\n",
      "5                 2         0.193662          0.207992          50\n",
      "6                 1         0.193807          0.207641         100\n",
      "7                 3         0.193439          0.206557         200\n",
      "8                 9         0.192550          0.205110         300\n",
      "9                10         0.191339          0.203432         400\n",
      "10               11         0.189918          0.201608         500\n",
      "11               12         0.188359          0.199693         600\n",
      "12               13         0.186709          0.197724         700\n",
      "13               14         0.185001          0.195728         800\n",
      "14               15         0.183258          0.193721         900\n",
      "15               16         0.181496          0.191717        1000\n"
     ]
    }
   ],
   "source": [
    "score_used = 'r2'\n",
    "param_grid={'alpha':[0.001,0.01,0.1,1,10,50,100,200,300,400,500,600,700,800,900,1000]}\n",
    "shuffle_split = ShuffleSplit(test_size=0.2, train_size=0.8, n_splits=15)\n",
    "grid_search=GridSearchCV(Ridge(),param_grid,cv=shuffle_split,scoring=score_used, \n",
    "                              return_train_score=True)\n",
    "grid_search.fit(Features,Target)\n",
    "results = pd.DataFrame(grid_search.cv_results_)\n",
    "print(results[['rank_test_score','mean_test_score','mean_train_score','param_alpha']])"
   ]
  },
  {
   "cell_type": "markdown",
   "metadata": {},
   "source": [
    "#### Cross Validation"
   ]
  },
  {
   "cell_type": "code",
   "execution_count": 22,
   "metadata": {},
   "outputs": [
    {
     "name": "stdout",
     "output_type": "stream",
     "text": [
      "Ridge Train Score is 0.20928762949902466\n",
      "Ridge Test Score is 0.18177406383409755\n"
     ]
    }
   ],
   "source": [
    "n = 15\n",
    "ridge = Ridge(alpha = 100)\n",
    "ridgeTrainScore = np.zeros(n)\n",
    "ridgeTestScore = np.zeros(n)\n",
    "for i in range(n):\n",
    "    X_train, X_test, y_train, y_test = train_test_split(Features, Target, test_size = 0.2)\n",
    "    ridge.fit(X_train,y_train)\n",
    "    ridgeTrainScore = ridge.score(X_train,y_train)\n",
    "    ridgeTestScore = ridge.score(X_test,y_test)\n",
    "print('Ridge Train Score is {}'.format(ridgeTrainScore.mean()))\n",
    "print('Ridge Test Score is {}'.format(ridgeTestScore.mean()))"
   ]
  },
  {
   "cell_type": "markdown",
   "metadata": {},
   "source": [
    "## Lasso Regression\n",
    "#### Grid Search"
   ]
  },
  {
   "cell_type": "code",
   "execution_count": 28,
   "metadata": {},
   "outputs": [
    {
     "name": "stdout",
     "output_type": "stream",
     "text": [
      "   rank_test_score  mean_test_score  mean_train_score param_alpha\n",
      "0                5         0.187493          0.209327       0.001\n",
      "1                4         0.188004          0.209299        0.01\n",
      "2                3         0.189236          0.209075        0.05\n",
      "3                2         0.189815          0.208822        0.08\n",
      "4                1         0.190035          0.208629         0.1\n",
      "5                6         0.174666          0.182046           1\n",
      "6                7         0.026774          0.028852          10\n",
      "7                8        -0.001015          0.000000         100\n"
     ]
    }
   ],
   "source": [
    "score_used = 'r2'\n",
    "param_grid={'alpha':[0.001,0.01,0.05,0.08,0.1,1,10,100]}\n",
    "shuffle_split = ShuffleSplit(test_size=0.2, train_size=0.8, n_splits=15)\n",
    "grid_search=GridSearchCV(Lasso(),param_grid,cv=shuffle_split,scoring=score_used, \n",
    "                              return_train_score=True)\n",
    "grid_search.fit(Features,Target)\n",
    "results = pd.DataFrame(grid_search.cv_results_)\n",
    "print(results[['rank_test_score','mean_test_score','mean_train_score','param_alpha']])"
   ]
  },
  {
   "cell_type": "markdown",
   "metadata": {},
   "source": [
    "#### Cross Validation"
   ]
  },
  {
   "cell_type": "code",
   "execution_count": 20,
   "metadata": {},
   "outputs": [
    {
     "name": "stdout",
     "output_type": "stream",
     "text": [
      "Lasso Train Score is 0.20670583136969523\n",
      "Lasso Test Score is 0.19954809391830128\n"
     ]
    }
   ],
   "source": [
    "n = 15\n",
    "lasso = Lasso(alpha = 0.1)\n",
    "lTrainScore = np.zeros(n)\n",
    "lTestScore = np.zeros(n)\n",
    "for i in range(n):\n",
    "    X_train, X_test, y_train, y_test = train_test_split(Features, Target, test_size = 0.2)\n",
    "    lasso.fit(X_train,y_train)\n",
    "    lTrainScore = ridge.score(X_train,y_train)\n",
    "    lTestScore = ridge.score(X_test,y_test)\n",
    "print('Lasso Train Score is {}'.format(lTrainScore.mean()))\n",
    "print('Lasso Test Score is {}'.format(lTestScore.mean()))"
   ]
  },
  {
   "cell_type": "markdown",
   "metadata": {},
   "source": [
    "The results from Ridge and Lasso regressions show little improvement from our benchmark KNN model, whihc indicates that the relationship of Features and airbnb occupancy is not linear. Therefore, we tried kernel ridge and tree based model latter."
   ]
  },
  {
   "cell_type": "markdown",
   "metadata": {},
   "source": [
    "## Kernel Ridge\n",
    "#### Grid Search"
   ]
  },
  {
   "cell_type": "code",
   "execution_count": null,
   "metadata": {},
   "outputs": [],
   "source": [
    "score_used = 'r2'\n",
    "param_grid={\"alpha\": np.linspace(1,3,11),\"gamma\": np.linspace(0.01,0.1,11),'kernel':['rbf']}\n",
    "shuffle_split = ShuffleSplit(test_size=0.2, train_size=0.8, n_splits=15)\n",
    "grid_search=GridSearchCV(KernelRidge(),param_grid,cv=shuffle_split,scoring=score_used, \n",
    "                              return_train_score=True)\n",
    "\n",
    "kernel_Ridge=grid_search.fit(Features,Target)\n",
    "KRcvResult = pd.DataFrame(kernel_Ridge.cv_results_)"
   ]
  },
  {
   "cell_type": "code",
   "execution_count": 5,
   "metadata": {},
   "outputs": [
    {
     "name": "stdout",
     "output_type": "stream",
     "text": [
      "     rank_test_score  mean_test_score  mean_train_score  param_alpha  \\\n",
      "0                  3         0.227616          0.326363          1.0   \n",
      "1                  1         0.230205          0.391882          1.0   \n",
      "2                  7         0.223749          0.443405          1.0   \n",
      "3                 26         0.209822          0.484340          1.0   \n",
      "4                 39         0.189537          0.516697          1.0   \n",
      "5                 50         0.163795          0.542055          1.0   \n",
      "6                 61         0.133286          0.561636          1.0   \n",
      "7                 72         0.098562          0.576389          1.0   \n",
      "8                 83         0.060109          0.587075          1.0   \n",
      "9                 92         0.018375          0.594312          1.0   \n",
      "10               102        -0.026229          0.598609          1.0   \n",
      "11                 4         0.225752          0.317011          1.2   \n",
      "12                 2         0.227832          0.377569          1.2   \n",
      "13                11         0.220452          0.424457          1.2   \n",
      "14                30         0.205504          0.461258          1.2   \n",
      "15                42         0.184109          0.489832          1.2   \n",
      "16                53         0.157154          0.511629          1.2   \n",
      "17                63         0.125321          0.527778          1.2   \n",
      "18                74         0.089168          0.539171          1.2   \n",
      "19                85         0.049188          0.546525          1.2   \n",
      "20                96         0.005839          0.550432          1.2   \n",
      "21               106        -0.040462          0.551380          1.2   \n",
      "22                 6         0.223904          0.309244          1.4   \n",
      "23                 5         0.225416          0.365666          1.4   \n",
      "24                15         0.217100          0.408575          1.4   \n",
      "25                33         0.201117          0.441711          1.4   \n",
      "26                44         0.178615          0.466855          1.4   \n",
      "27                55         0.150471          0.485362          1.4   \n",
      "28                66         0.117358          0.498296          1.4   \n",
      "29                77         0.079835          0.506503          1.4   \n",
      "..               ...              ...               ...          ...   \n",
      "91                45         0.176487          0.363062          2.6   \n",
      "92                56         0.147970          0.372689          2.6   \n",
      "93                67         0.113465          0.375827          2.6   \n",
      "94                78         0.073608          0.373351          2.6   \n",
      "95                89         0.028939          0.365972          2.6   \n",
      "96               101        -0.020053          0.354295          2.6   \n",
      "97               112        -0.072907          0.338845          2.6   \n",
      "98               119        -0.129192          0.320090          2.6   \n",
      "99                22         0.212549          0.275684          2.8   \n",
      "100               27         0.209600          0.313824          2.8   \n",
      "101               36         0.195285          0.338380          2.8   \n",
      "102               47         0.172761          0.353625          2.8   \n",
      "103               58         0.143355          0.361246          2.8   \n",
      "104               69         0.107913          0.362355          2.8   \n",
      "105               80         0.067066          0.357808          2.8   \n",
      "106               91         0.021348          0.348306          2.8   \n",
      "107              103        -0.028755          0.334447          2.8   \n",
      "108              114        -0.082784          0.316753          2.8   \n",
      "109              120        -0.140304          0.295697          2.8   \n",
      "110               24         0.211142          0.272436          3.0   \n",
      "111               28         0.207558          0.308763          3.0   \n",
      "112               38         0.192480          0.331462          3.0   \n",
      "113               48         0.169139          0.344832          3.0   \n",
      "114               59         0.138872          0.350563          3.0   \n",
      "115               70         0.102524          0.349752          3.0   \n",
      "116               82         0.060718          0.343242          3.0   \n",
      "117               94         0.013983          0.331722          3.0   \n",
      "118              105        -0.037198          0.315783          3.0   \n",
      "119              115        -0.092369          0.295947          3.0   \n",
      "120              121        -0.151086          0.272693          3.0   \n",
      "\n",
      "     param_gamma param_kernel  \n",
      "0          0.010          rbf  \n",
      "1          0.019          rbf  \n",
      "2          0.028          rbf  \n",
      "3          0.037          rbf  \n",
      "4          0.046          rbf  \n",
      "5          0.055          rbf  \n",
      "6          0.064          rbf  \n",
      "7          0.073          rbf  \n",
      "8          0.082          rbf  \n",
      "9          0.091          rbf  \n",
      "10         0.100          rbf  \n",
      "11         0.010          rbf  \n",
      "12         0.019          rbf  \n",
      "13         0.028          rbf  \n",
      "14         0.037          rbf  \n",
      "15         0.046          rbf  \n",
      "16         0.055          rbf  \n",
      "17         0.064          rbf  \n",
      "18         0.073          rbf  \n",
      "19         0.082          rbf  \n",
      "20         0.091          rbf  \n",
      "21         0.100          rbf  \n",
      "22         0.010          rbf  \n",
      "23         0.019          rbf  \n",
      "24         0.028          rbf  \n",
      "25         0.037          rbf  \n",
      "26         0.046          rbf  \n",
      "27         0.055          rbf  \n",
      "28         0.064          rbf  \n",
      "29         0.073          rbf  \n",
      "..           ...          ...  \n",
      "91         0.037          rbf  \n",
      "92         0.046          rbf  \n",
      "93         0.055          rbf  \n",
      "94         0.064          rbf  \n",
      "95         0.073          rbf  \n",
      "96         0.082          rbf  \n",
      "97         0.091          rbf  \n",
      "98         0.100          rbf  \n",
      "99         0.010          rbf  \n",
      "100        0.019          rbf  \n",
      "101        0.028          rbf  \n",
      "102        0.037          rbf  \n",
      "103        0.046          rbf  \n",
      "104        0.055          rbf  \n",
      "105        0.064          rbf  \n",
      "106        0.073          rbf  \n",
      "107        0.082          rbf  \n",
      "108        0.091          rbf  \n",
      "109        0.100          rbf  \n",
      "110        0.010          rbf  \n",
      "111        0.019          rbf  \n",
      "112        0.028          rbf  \n",
      "113        0.037          rbf  \n",
      "114        0.046          rbf  \n",
      "115        0.055          rbf  \n",
      "116        0.064          rbf  \n",
      "117        0.073          rbf  \n",
      "118        0.082          rbf  \n",
      "119        0.091          rbf  \n",
      "120        0.100          rbf  \n",
      "\n",
      "[121 rows x 6 columns]\n"
     ]
    }
   ],
   "source": [
    "KRcvResult = pd.read_excel('../Data/KRcvResult.xlsx', sheet_name = 'Grid_Search')\n",
    "print(KRcvResult[['rank_test_score','mean_test_score','mean_train_score','param_alpha','param_gamma','param_kernel']])"
   ]
  },
  {
   "cell_type": "code",
   "execution_count": 7,
   "metadata": {},
   "outputs": [
    {
     "name": "stdout",
     "output_type": "stream",
     "text": [
      "   param_alpha  param_gamma  mean_test_score  mean_train_score\n",
      "1          1.0        0.019         0.230205          0.391882\n"
     ]
    }
   ],
   "source": [
    "B_Paremeter=KRcvResult.loc[KRcvResult['rank_test_score']==1]\n",
    "B_Paremeter=B_Paremeter.iloc[:,[4,5,23,41]]\n",
    "print(B_Paremeter)"
   ]
  },
  {
   "cell_type": "code",
   "execution_count": 24,
   "metadata": {},
   "outputs": [
    {
     "name": "stdout",
     "output_type": "stream",
     "text": [
      "KernelRidge Train Score is 0.38444126523588773\n",
      "KernelRidge Test Score is 0.23340335219362562\n"
     ]
    }
   ],
   "source": [
    "n = 15\n",
    "KR = KernelRidge(alpha=1.,gamma=0.019,kernel='rbf')\n",
    "KRTrainScore = np.zeros(n)\n",
    "KRTestScore = np.zeros(n)\n",
    "for i in range(n):\n",
    "    X_train, X_test, y_train, y_test = train_test_split(Features, Target, test_size = 0.2)\n",
    "    KR.fit(X_train,y_train)\n",
    "    KRTrainScore = KR.score(X_train,y_train)\n",
    "    KRTestScore = KR.score(X_test,y_test)\n",
    "print('KernelRidge Train Score is {}'.format(KRTrainScore.mean()))\n",
    "print('KernelRidge Test Score is {}'.format(KRTestScore.mean()))"
   ]
  },
  {
   "cell_type": "markdown",
   "metadata": {},
   "source": [
    "The best Kernel Ridge regression gives us 0.23 mean_test_score, which is slightly higher than the Linear Regression method but still doesn't meet our expectation.The reason may be that we have many categorical predictors in our dataset, which may be poor indicators as the distance between two points，which are calculated in Kernel Function, doesn't represent any meaningful result. Therefore, we think the tree-type model,combining with bagging technique, would be the appropriate one to our dataset."
   ]
  },
  {
   "cell_type": "markdown",
   "metadata": {},
   "source": [
    "## Boost Tree"
   ]
  },
  {
   "cell_type": "markdown",
   "metadata": {},
   "source": [
    "#### Grid Search"
   ]
  },
  {
   "cell_type": "code",
   "execution_count": 30,
   "metadata": {},
   "outputs": [],
   "source": [
    "score_used = 'r2'\n",
    "param_grid={'learning_rate':[0.05,0.1,0.15,0.2],'max_depth':[5,10,15,20]}\n",
    "shuffle_split = ShuffleSplit(test_size=0.2, train_size=0.8, n_splits=15)\n",
    "grid_search=GridSearchCV(GradientBoostingRegressor(n_estimators=100),param_grid,cv=shuffle_split,scoring=score_used, \n",
    "                              return_train_score=True)\n",
    "grid_search.fit(Features,Target)\n",
    "BTcvResult = pd.DataFrame(grid_search.cv_results_)"
   ]
  },
  {
   "cell_type": "code",
   "execution_count": 6,
   "metadata": {
    "scrolled": true
   },
   "outputs": [
    {
     "name": "stdout",
     "output_type": "stream",
     "text": [
      "    rank_test_score  mean_test_score  mean_train_score  param_learning_rate  \\\n",
      "0                 6         0.321315          0.543580                 0.05   \n",
      "1                 1         0.338401          0.948304                 0.05   \n",
      "2                 9         0.255545          0.999445                 0.05   \n",
      "3                16         0.070316          0.999951                 0.05   \n",
      "4                 3         0.323943          0.655171                 0.10   \n",
      "5                 2         0.333588          0.988345                 0.10   \n",
      "6                10         0.251383          0.999998                 0.10   \n",
      "7                14         0.081453          1.000000                 0.10   \n",
      "8                 4         0.322206          0.741140                 0.15   \n",
      "9                 5         0.321561          0.997487                 0.15   \n",
      "10               11         0.245835          1.000000                 0.15   \n",
      "11               15         0.075492          1.000000                 0.15   \n",
      "12                7         0.311311          0.803302                 0.20   \n",
      "13                8         0.304468          0.999400                 0.20   \n",
      "14               12         0.241292          1.000000                 0.20   \n",
      "15               13         0.087489          1.000000                 0.20   \n",
      "\n",
      "    param_max_depth  \n",
      "0                 5  \n",
      "1                10  \n",
      "2                15  \n",
      "3                20  \n",
      "4                 5  \n",
      "5                10  \n",
      "6                15  \n",
      "7                20  \n",
      "8                 5  \n",
      "9                10  \n",
      "10               15  \n",
      "11               20  \n",
      "12                5  \n",
      "13               10  \n",
      "14               15  \n",
      "15               20  \n"
     ]
    }
   ],
   "source": [
    "BTcvResult = pd.read_csv('../Data/BTcvResult.csv',index_col=0)\n",
    "print(BTcvResult[['rank_test_score','mean_test_score','mean_train_score','param_learning_rate','param_max_depth']])"
   ]
  },
  {
   "cell_type": "markdown",
   "metadata": {},
   "source": [
    "From the grid search result, the best parametter combination is 5 max_depth and 0.05 learning_rate, whihc gives a relative better test secore and not very large test and train gaps. We believe that the combination offers the best prediction performance and has less possibility of overfitting issues."
   ]
  },
  {
   "cell_type": "markdown",
   "metadata": {},
   "source": [
    "#### Cross Validation"
   ]
  },
  {
   "cell_type": "code",
   "execution_count": 25,
   "metadata": {},
   "outputs": [
    {
     "name": "stdout",
     "output_type": "stream",
     "text": [
      "GradientBoosting Train Score is 0.5369947124235599\n",
      "GradientBoosting Test Score is 0.35578740838117695\n"
     ]
    }
   ],
   "source": [
    "n = 15\n",
    "gbrt = GradientBoostingRegressor(n_estimators=100,max_depth=5,learning_rate=0.05)\n",
    "gbrtTrainScore = np.zeros(n)\n",
    "gbrtTestScore = np.zeros(n)\n",
    "for i in range(n):\n",
    "    X_train, X_test, y_train, y_test = train_test_split(Features, Target, test_size = 0.2)\n",
    "    gbrt.fit(X_train,y_train)\n",
    "    gbrtTrainScore = gbrt.score(X_train,y_train)\n",
    "    gbrtTestScore = gbrt.score(X_test,y_test)\n",
    "print('GradientBoosting Train Score is {}'.format(gbrtTrainScore.mean()))\n",
    "print('GradientBoosting Test Score is {}'.format(gbrtTestScore.mean()))"
   ]
  },
  {
   "cell_type": "markdown",
   "metadata": {},
   "source": [
    "The Tree Based model here offers a lot better prediction performance compared to all above models. The main reason here we believe is that the Feature set here is more suitable to a tree based model. Tree based model is better when handling 0/1 dummies in feature sets. The Airbnb data has 3 categorical variables which were converted into 9 dummies. Therefore, 9 out of 28 X variables are dummies, which makes tree based model a better choice. "
   ]
  },
  {
   "cell_type": "markdown",
   "metadata": {},
   "source": [
    "## Random Forest"
   ]
  },
  {
   "cell_type": "markdown",
   "metadata": {},
   "source": [
    "#### Gridsearch"
   ]
  },
  {
   "cell_type": "code",
   "execution_count": 29,
   "metadata": {},
   "outputs": [],
   "source": [
    "score_used = 'r2'\n",
    "param_grid={'max_features':[10,15,20,25],'max_depth':[5,10,15,20]}\n",
    "shuffle_split = ShuffleSplit(test_size=0.2, train_size=0.8, n_splits=15)\n",
    "grid_search=GridSearchCV(RandomForestRegressor(n_estimators=100),param_grid,cv=shuffle_split,scoring=score_used, \n",
    "                              return_train_score=True)\n",
    "grid_search.fit(Features,Target)\n",
    "RFcvResult = pd.DataFrame(grid_search.cv_results_)"
   ]
  },
  {
   "cell_type": "code",
   "execution_count": 6,
   "metadata": {
    "scrolled": true
   },
   "outputs": [
    {
     "name": "stdout",
     "output_type": "stream",
     "text": [
      "    rank_test_score  mean_test_score  mean_train_score  param_max_features  \\\n",
      "0                15         0.268981          0.331519                  10   \n",
      "1                13         0.272221          0.338160                  15   \n",
      "2                14         0.270218          0.336478                  20   \n",
      "3                16         0.266156          0.333034                  25   \n",
      "4                11         0.357217          0.657071                  10   \n",
      "5                 9         0.359831          0.666370                  15   \n",
      "6                10         0.357895          0.665381                  20   \n",
      "7                12         0.350703          0.656272                  25   \n",
      "8                 6         0.381922          0.856830                  10   \n",
      "9                 3         0.384479          0.859929                  15   \n",
      "10                5         0.383381          0.860619                  20   \n",
      "11                8         0.379319          0.857206                  25   \n",
      "12                2         0.386323          0.906603                  10   \n",
      "13                1         0.387667          0.908066                  15   \n",
      "14                4         0.384171          0.907470                  20   \n",
      "15                7         0.381014          0.907813                  25   \n",
      "\n",
      "    param_max_depth  \n",
      "0                 5  \n",
      "1                 5  \n",
      "2                 5  \n",
      "3                 5  \n",
      "4                10  \n",
      "5                10  \n",
      "6                10  \n",
      "7                10  \n",
      "8                15  \n",
      "9                15  \n",
      "10               15  \n",
      "11               15  \n",
      "12               20  \n",
      "13               20  \n",
      "14               20  \n",
      "15               20  \n"
     ]
    }
   ],
   "source": [
    "RFcvResult = pd.read_csv('../Data/RFcvResult.csv',index_col=0)\n",
    "print(RFcvResult[['rank_test_score','mean_test_score','mean_train_score','param_max_features','param_max_depth']])"
   ]
  },
  {
   "cell_type": "markdown",
   "metadata": {},
   "source": [
    "From the grid search result, the best parametter combination is 15 max_depth and 10 max_depth, whihc gives a relative better test secore and not very large test and train gaps. We believe that the combination offers the best prediction performance and has less possibility of overfitting issues."
   ]
  },
  {
   "cell_type": "markdown",
   "metadata": {},
   "source": [
    "#### Cross Validation"
   ]
  },
  {
   "cell_type": "code",
   "execution_count": 26,
   "metadata": {},
   "outputs": [
    {
     "name": "stdout",
     "output_type": "stream",
     "text": [
      "forestBoosting Train Score is 0.8546731650281809\n",
      "forestBoosting Test Score is 0.3800719459845968\n"
     ]
    }
   ],
   "source": [
    "n = 15\n",
    "forest = RandomForestRegressor(n_estimators=100,max_features = 10,max_depth = 15)\n",
    "forestTrainScore = np.zeros(n)\n",
    "forestTestScore = np.zeros(n)\n",
    "for i in range(n):\n",
    "    X_train, X_test, y_train, y_test = train_test_split(Features, Target, test_size = 0.2)\n",
    "    forest.fit(X_train,y_train)\n",
    "    forestTrainScore = forest.score(X_train,y_train)\n",
    "    forestTestScore = forest.score(X_test,y_test)\n",
    "print('forestBoosting Train Score is {}'.format(forestTrainScore.mean()))\n",
    "print('forestBoosting Test Score is {}'.format(forestTestScore.mean()))"
   ]
  },
  {
   "cell_type": "markdown",
   "metadata": {},
   "source": [
    "Like BoostTree Model, Random Forest model results are way better than all other models. In addition, the Forest gives us a slightly better prediction performance. We believe the performance enhancement comming from the feature diversification trees of random forest, which is controlled by the max_feature parameter."
   ]
  },
  {
   "cell_type": "markdown",
   "metadata": {},
   "source": [
    "#### Bussiness Insides from Feature Importance\n",
    "Since the Random Forest model is the Best Model we have, we plot the feature importance inside that model to find useful insides to predicting Boston airbnb revenue. "
   ]
  },
  {
   "cell_type": "code",
   "execution_count": 32,
   "metadata": {
    "scrolled": false
   },
   "outputs": [
    {
     "data": {
      "image/png": "[encoded data removed]",
      "text/plain": [
       "<Figure size 432x288 with 1 Axes>"
      ]
     },
     "metadata": {
      "needs_background": "light"
     },
     "output_type": "display_data"
    }
   ],
   "source": [
    "plot_feature_importances(forest)"
   ]
  },
  {
   "cell_type": "markdown",
   "metadata": {},
   "source": [
    "From the plot above, The most improtant variable for predicting airbnb revenues is **same host lists**, which indicates how many airbnb listings are the host has. We can say that whether a list has experienced (or we can say commercial) airbnb host are more likely to effect higher revenues. Besides that, other important variables are **host durations**, **log price**, **distance to boston attractions** and **Cleaning fee**, these are also important features which can bring more profitable airbnb listings. Then after all that, customers' reveiews also show some important on revenues, based on which topic it talks about.(The reveiw vectors are result from LDA topical analysis results)"
   ]
  },
  {
   "cell_type": "markdown",
   "metadata": {},
   "source": [
    "## Conclusion"
   ]
  },
  {
   "cell_type": "code",
   "execution_count": 31,
   "metadata": {},
   "outputs": [
    {
     "data": {
      "text/html": [
       "<div>\n",
       "<style scoped>\n",
       "    .dataframe tbody tr th:only-of-type {\n",
       "        vertical-align: middle;\n",
       "    }\n",
       "\n",
       "    .dataframe tbody tr th {\n",
       "        vertical-align: top;\n",
       "    }\n",
       "\n",
       "    .dataframe thead th {\n",
       "        text-align: right;\n",
       "    }\n",
       "</style>\n",
       "<table border=\"1\" class=\"dataframe\">\n",
       "  <thead>\n",
       "    <tr style=\"text-align: right;\">\n",
       "      <th></th>\n",
       "      <th>KNN</th>\n",
       "      <th>Ridge</th>\n",
       "      <th>Lasso</th>\n",
       "      <th>KernelRidge</th>\n",
       "      <th>BoostTree</th>\n",
       "      <th>RandomForest</th>\n",
       "    </tr>\n",
       "  </thead>\n",
       "  <tbody>\n",
       "    <tr>\n",
       "      <th>Trainset Score</th>\n",
       "      <td>0.374583</td>\n",
       "      <td>0.209288</td>\n",
       "      <td>0.206706</td>\n",
       "      <td>0.384441</td>\n",
       "      <td>0.536995</td>\n",
       "      <td>0.854673</td>\n",
       "    </tr>\n",
       "    <tr>\n",
       "      <th>Testset Score</th>\n",
       "      <td>0.180022</td>\n",
       "      <td>0.181774</td>\n",
       "      <td>0.199548</td>\n",
       "      <td>0.233403</td>\n",
       "      <td>0.355787</td>\n",
       "      <td>0.380072</td>\n",
       "    </tr>\n",
       "  </tbody>\n",
       "</table>\n",
       "</div>"
      ],
      "text/plain": [
       "                     KNN     Ridge     Lasso  KernelRidge  BoostTree  \\\n",
       "Trainset Score  0.374583  0.209288  0.206706     0.384441   0.536995   \n",
       "Testset Score   0.180022  0.181774  0.199548     0.233403   0.355787   \n",
       "\n",
       "                RandomForest  \n",
       "Trainset Score      0.854673  \n",
       "Testset Score       0.380072  "
      ]
     },
     "execution_count": 31,
     "metadata": {},
     "output_type": "execute_result"
    }
   ],
   "source": [
    "Result = {'KNN':[KNNTrainScore.mean(),KNNTestScore.mean()],\n",
    "         'Ridge':[ridgeTrainScore.mean(),ridgeTestScore.mean()],\n",
    "         'Lasso':[lTrainScore.mean(),lTestScore.mean()],\n",
    "         'KernelRidge':[KRTrainScore.mean(),KRTestScore.mean()],\n",
    "         'BoostTree':[gbrtTrainScore.mean(),gbrtTestScore.mean()],\n",
    "         'RandomForest':[forestTrainScore.mean(),forestTestScore.mean()]}\n",
    "pd.DataFrame(Result,index = ['Trainset Score','Testset Score'])"
   ]
  },
  {
   "cell_type": "markdown",
   "metadata": {},
   "source": [
    "Unfortunately, our models all fail to provide satisfied predictability, and we are also confused about the results. After discussion, we argue that the reason might be:\n",
    "\n",
    "1. With only about 5000 records, it is still difficult for these models to accurately fit nonlinearity in these data. Besides, large number of dummy variables and predictors makes it even harder for regression models to function well.\n",
    "\n",
    "2. The target variable OCC or availability_90 comes from original data, which is not perfectly the ideal target variable for us, because it is much better if we can get past occupancy information in 90 days from this variable, however, without a data dictionary (the website does not seem to provide it), we can only tell this variable is an average forecast based on past data. Therefore, our result is not satisfying.\n",
    "\n",
    "Although the output of our models are not ideal and we are unable to offer a perfect model to predict average occupancy and revenue for Airbnb listers, our work still sheds light on what an Airbnb lister can do to improve the business value of their Airbnb listing property. Here is our advice:\n",
    "\n",
    "1. Commercialization of airbnb(**some host list**) is a major potential revenue factor for Airbnb listers. Commercial airbnb and personal airbnb listings seem to be treated differently by the market.\n",
    "\n",
    "2. Reviews are not so crucial as what we originally thought. Listers should pay more attention on how to improve their service rather than sit there worrying about a few negative reviews."
   ]
  },
  {
   "cell_type": "code",
   "execution_count": null,
   "metadata": {},
   "outputs": [],
   "source": []
  }
 ],
 "metadata": {
  "kernelspec": {
   "display_name": "Python 3",
   "language": "python",
   "name": "python3"
  },
  "language_info": {
   "codemirror_mode": {
    "name": "ipython",
    "version": 3
   },
   "file_extension": ".py",
   "mimetype": "text/x-python",
   "name": "python",
   "nbconvert_exporter": "python",
   "pygments_lexer": "ipython3",
   "version": "3.7.0"
  },
  "varInspector": {
   "cols": {
    "lenName": 16,
    "lenType": 16,
    "lenVar": 40
   },
   "kernels_config": {
    "python": {
     "delete_cmd_postfix": "",
     "delete_cmd_prefix": "del ",
     "library": "var_list.py",
     "varRefreshCmd": "print(var_dic_list())"
    },
    "r": {
     "delete_cmd_postfix": ") ",
     "delete_cmd_prefix": "rm(",
     "library": "var_list.r",
     "varRefreshCmd": "cat(var_dic_list()) "
    }
   },
   "position": {
    "height": "145.162px",
    "left": "1438.41px",
    "right": "20px",
    "top": "189.987px",
    "width": "349.969px"
   },
   "types_to_exclude": [
    "module",
    "function",
    "builtin_function_or_method",
    "instance",
    "_Feature"
   ],
   "window_display": true
  }
 },
 "nbformat": 4,
 "nbformat_minor": 2
}
